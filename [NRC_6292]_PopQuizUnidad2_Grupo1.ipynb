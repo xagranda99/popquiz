{
 "cells": [
  {
   "cell_type": "markdown",
   "id": "79df9ba3",
   "metadata": {},
   "source": [
    "# Grupo 1"
   ]
  },
  {
   "cell_type": "markdown",
   "id": "5197dd94",
   "metadata": {},
   "source": [
    "<a>Integrantes </a>\n",
    "- Xavier Granda\n",
    "- Joel Molina\n",
    "- Bryan Noboa\n",
    "- Miguel Castillo\n",
    "- Junior Zambrano\n",
    "- Jhandry Zambrano"
   ]
  },
  {
   "cell_type": "code",
   "execution_count": null,
   "id": "c511bf90",
   "metadata": {},
   "outputs": [],
   "source": [
    "'''Importar las librerias para el desarrollo de este taller'''\n",
    "import pandas as pd\n",
    "import matplotlib.pyplot as plt\n",
    "import numpy as np\n",
    "import seaborn as sns\n",
    "from sklearn.model_selection import train_test_split\n",
    "import plotly.express as px\n",
    "import plotly.graph_objects as go\n",
    "from IPython.display import HTML,display\n",
    "import bar_chart_race as bcr\n",
    "from plotnine import *\n"
   ]
  },
  {
   "cell_type": "code",
   "execution_count": 2,
   "id": "8693afe0",
   "metadata": {},
   "outputs": [
    {
     "data": {
      "text/html": [
       "<div>\n",
       "<style scoped>\n",
       "    .dataframe tbody tr th:only-of-type {\n",
       "        vertical-align: middle;\n",
       "    }\n",
       "\n",
       "    .dataframe tbody tr th {\n",
       "        vertical-align: top;\n",
       "    }\n",
       "\n",
       "    .dataframe thead th {\n",
       "        text-align: right;\n",
       "    }\n",
       "</style>\n",
       "<table border=\"1\" class=\"dataframe\">\n",
       "  <thead>\n",
       "    <tr style=\"text-align: right;\">\n",
       "      <th></th>\n",
       "      <th>Unnamed: 0</th>\n",
       "      <th>Value</th>\n",
       "    </tr>\n",
       "  </thead>\n",
       "  <tbody>\n",
       "    <tr>\n",
       "      <th>0</th>\n",
       "      <td>China</td>\n",
       "      <td>1392730000</td>\n",
       "    </tr>\n",
       "    <tr>\n",
       "      <th>1</th>\n",
       "      <td>India</td>\n",
       "      <td>1352617328</td>\n",
       "    </tr>\n",
       "    <tr>\n",
       "      <th>2</th>\n",
       "      <td>US</td>\n",
       "      <td>326687501</td>\n",
       "    </tr>\n",
       "    <tr>\n",
       "      <th>3</th>\n",
       "      <td>Indonesia</td>\n",
       "      <td>267663435</td>\n",
       "    </tr>\n",
       "    <tr>\n",
       "      <th>4</th>\n",
       "      <td>Pakistan</td>\n",
       "      <td>212215030</td>\n",
       "    </tr>\n",
       "  </tbody>\n",
       "</table>\n",
       "</div>"
      ],
      "text/plain": [
       "  Unnamed: 0       Value\n",
       "0      China  1392730000\n",
       "1      India  1352617328\n",
       "2         US   326687501\n",
       "3  Indonesia   267663435\n",
       "4   Pakistan   212215030"
      ]
     },
     "execution_count": 2,
     "metadata": {},
     "output_type": "execute_result"
    }
   ],
   "source": [
    "''' Cargamos el dataset'''\n",
    "df_total = pd.read_csv('population_2018.csv')\n",
    "df_total.head()"
   ]
  },
  {
   "cell_type": "code",
   "execution_count": 3,
   "id": "d864759a",
   "metadata": {},
   "outputs": [
    {
     "data": {
      "text/plain": [
       "0      1392.730000\n",
       "1      1352.617328\n",
       "2       326.687501\n",
       "3       267.663435\n",
       "4       212.215030\n",
       "          ...     \n",
       "178       0.077006\n",
       "179       0.071625\n",
       "180       0.052441\n",
       "181       0.038682\n",
       "182       0.037910\n",
       "Name: Value, Length: 183, dtype: float64"
      ]
     },
     "execution_count": 3,
     "metadata": {},
     "output_type": "execute_result"
    }
   ],
   "source": [
    "'''Usaremos los valores en millones de unidades'''\n",
    "df = df_total['Value']/1000000\n",
    "df "
   ]
  },
  {
   "cell_type": "code",
   "execution_count": 10,
   "id": "68fdd683",
   "metadata": {},
   "outputs": [
    {
     "data": {
      "application/vnd.plotly.v1+json": {
       "config": {
        "plotlyServerURL": "https://plot.ly"
       },
       "data": [
        {
         "alignmentgroup": "True",
         "hovertemplate": "Ciudad=%{x}<br>Poblacion=%{y}<extra></extra>",
         "legendgroup": "",
         "marker": {
          "color": "#636efa",
          "pattern": {
           "shape": ""
          }
         },
         "name": "",
         "offsetgroup": "",
         "orientation": "v",
         "showlegend": false,
         "textposition": "auto",
         "type": "bar",
         "x": [
          "China",
          "India",
          "US",
          "Indonesia",
          "Pakistan",
          "Brazil",
          "Nigeria",
          "Bangladesh",
          "Russia",
          "Japan",
          "Mexico",
          "Ethiopia",
          "Philippines",
          "Egypt",
          "Vietnam",
          "Congo (Kinshasa)",
          "Germany",
          "Turkey",
          "Iran",
          "Thailand",
          "France",
          "UK",
          "Italy",
          "South Africa",
          "Tanzania",
          "Burma",
          "Korea, South",
          "Kenya",
          "Colombia",
          "Spain",
          "Ukraine",
          "Argentina",
          "Uganda",
          "Algeria",
          "Sudan",
          "Iraq",
          "Poland",
          "Afghanistan",
          "Canada",
          "Morocco",
          "Saudi Arabia",
          "Uzbekistan",
          "Peru",
          "Malaysia",
          "Angola",
          "Ghana",
          "Mozambique",
          "Venezuela",
          "Yemen",
          "Nepal",
          "Madagascar",
          "Cameroon",
          "Cote d'Ivoire",
          "Australia",
          "Taiwan*",
          "Niger",
          "Sri Lanka",
          "Burkina Faso",
          "Romania",
          "Mali",
          "Chile",
          "Kazakhstan",
          "Malawi",
          "Zambia",
          "Guatemala",
          "Netherlands",
          "Ecuador",
          "Syria",
          "Cambodia",
          "Senegal",
          "Chad",
          "Somalia",
          "Zimbabwe",
          "Guinea",
          "Rwanda",
          "Tunisia",
          "Benin",
          "Belgium",
          "Bolivia",
          "Cuba",
          "Burundi",
          "Haiti",
          "South Sudan",
          "Greece",
          "Czechia",
          "Dominican Republic",
          "Portugal",
          "Sweden",
          "Jordan",
          "Azerbaijan",
          "Hungary",
          "United Arab Emirates",
          "Honduras",
          "Belarus",
          "Tajikistan",
          "Israel",
          "Austria",
          "Papua New Guinea",
          "Switzerland",
          "Togo",
          "Sierra Leone",
          "Laos",
          "Bulgaria",
          "Serbia",
          "Paraguay",
          "Lebanon",
          "Libya",
          "Nicaragua",
          "El Salvador",
          "Kyrgyzstan",
          "Denmark",
          "Singapore",
          "Finland",
          "Slovakia",
          "Norway",
          "Congo (Brazzaville)",
          "Eritrea",
          "Costa Rica",
          "Ireland",
          "New Zealand",
          "Oman",
          "Liberia",
          "Central African Republic",
          "West Bank and Gaza",
          "Mauritania",
          "Panama",
          "Kuwait",
          "Croatia",
          "Georgia",
          "Uruguay",
          "Bosnia and Herzegovina",
          "Mongolia",
          "Armenia",
          "Jamaica",
          "Albania",
          "Lithuania",
          "Qatar",
          "Moldova",
          "Namibia",
          "Gambia",
          "Botswana",
          "Gabon",
          "Lesotho",
          "North Macedonia",
          "Slovenia",
          "Latvia",
          "Guinea-Bissau",
          "Kosovo",
          "Bahrain",
          "Trinidad and Tobago",
          "Estonia",
          "Equatorial Guinea",
          "Timor-Leste",
          "Mauritius",
          "Cyprus",
          "Eswatini",
          "Djibouti",
          "Fiji",
          "Comoros",
          "Guyana",
          "Bhutan",
          "Montenegro",
          "Luxembourg",
          "Suriname",
          "Cabo Verde",
          "Maldives",
          "Malta",
          "Brunei",
          "Bahamas",
          "Belize",
          "Iceland",
          "Barbados",
          "Sao Tome and Principe",
          "Saint Lucia",
          "Grenada",
          "Saint Vincent and the Grenadines",
          "Seychelles",
          "Antigua and Barbuda",
          "Andorra",
          "Dominica",
          "Saint Kitts and Nevis",
          "Monaco",
          "Liechtenstein"
         ],
         "xaxis": "x",
         "y": [
          1392730000,
          1352617328,
          326687501,
          267663435,
          212215030,
          209469333,
          195874740,
          161356039,
          144478050,
          126529100,
          126190788,
          109224559,
          106651922,
          98423595,
          95540395,
          84068091,
          82905782,
          82319724,
          81800269,
          69428524,
          66977107,
          66460344,
          60455545,
          57779622,
          56318348,
          53708395,
          51606633,
          51393010,
          49648685,
          46796540,
          44622516,
          44494502,
          42723139,
          42228429,
          41801533,
          38433600,
          37974750,
          37172386,
          37057765,
          36029138,
          33699947,
          32955400,
          31989256,
          31528585,
          30809762,
          29767108,
          29495962,
          28870195,
          28498687,
          28087871,
          26262368,
          25216237,
          25069229,
          24982688,
          23780000,
          22442948,
          21670000,
          19751535,
          19466145,
          19077690,
          18729160,
          18272430,
          18143315,
          17351822,
          17247807,
          17231624,
          17084357,
          16906283,
          16249798,
          15854360,
          15477751,
          15008154,
          14439018,
          12414318,
          12301939,
          11565204,
          11485048,
          11433256,
          11353142,
          11338138,
          11175378,
          11123176,
          10975920,
          10731726,
          10629928,
          10627165,
          10283822,
          10175214,
          9956011,
          9939800,
          9775564,
          9630959,
          9587522,
          9483499,
          9100837,
          8882800,
          8840521,
          8606316,
          8513227,
          7889094,
          7650154,
          7061507,
          7025037,
          6982604,
          6956071,
          6848925,
          6678567,
          6465513,
          6420744,
          6322800,
          5793636,
          5638676,
          5515525,
          5446771,
          5311916,
          5244363,
          5100000,
          4999441,
          4867309,
          4841000,
          4829483,
          4818977,
          4666377,
          4569087,
          4403319,
          4176873,
          4137309,
          4087843,
          3726549,
          3449299,
          3323929,
          3170208,
          2951776,
          2934855,
          2866376,
          2801543,
          2781677,
          2706049,
          2448255,
          2280102,
          2254126,
          2119275,
          2108132,
          2082958,
          2073894,
          1927174,
          1874309,
          1845300,
          1569439,
          1389858,
          1321977,
          1308974,
          1267972,
          1265303,
          1189265,
          1136191,
          958920,
          883483,
          832322,
          779004,
          754394,
          622227,
          607950,
          575991,
          543767,
          515696,
          484630,
          428962,
          385640,
          383071,
          352721,
          286641,
          211028,
          181889,
          111454,
          110210,
          96762,
          96286,
          77006,
          71625,
          52441,
          38682,
          37910
         ],
         "yaxis": "y"
        }
       ],
       "layout": {
        "barmode": "relative",
        "legend": {
         "tracegroupgap": 0
        },
        "template": {
         "data": {
          "bar": [
           {
            "error_x": {
             "color": "#2a3f5f"
            },
            "error_y": {
             "color": "#2a3f5f"
            },
            "marker": {
             "line": {
              "color": "#E5ECF6",
              "width": 0.5
             },
             "pattern": {
              "fillmode": "overlay",
              "size": 10,
              "solidity": 0.2
             }
            },
            "type": "bar"
           }
          ],
          "barpolar": [
           {
            "marker": {
             "line": {
              "color": "#E5ECF6",
              "width": 0.5
             },
             "pattern": {
              "fillmode": "overlay",
              "size": 10,
              "solidity": 0.2
             }
            },
            "type": "barpolar"
           }
          ],
          "carpet": [
           {
            "aaxis": {
             "endlinecolor": "#2a3f5f",
             "gridcolor": "white",
             "linecolor": "white",
             "minorgridcolor": "white",
             "startlinecolor": "#2a3f5f"
            },
            "baxis": {
             "endlinecolor": "#2a3f5f",
             "gridcolor": "white",
             "linecolor": "white",
             "minorgridcolor": "white",
             "startlinecolor": "#2a3f5f"
            },
            "type": "carpet"
           }
          ],
          "choropleth": [
           {
            "colorbar": {
             "outlinewidth": 0,
             "ticks": ""
            },
            "type": "choropleth"
           }
          ],
          "contour": [
           {
            "colorbar": {
             "outlinewidth": 0,
             "ticks": ""
            },
            "colorscale": [
             [
              0,
              "#0d0887"
             ],
             [
              0.1111111111111111,
              "#46039f"
             ],
             [
              0.2222222222222222,
              "#7201a8"
             ],
             [
              0.3333333333333333,
              "#9c179e"
             ],
             [
              0.4444444444444444,
              "#bd3786"
             ],
             [
              0.5555555555555556,
              "#d8576b"
             ],
             [
              0.6666666666666666,
              "#ed7953"
             ],
             [
              0.7777777777777778,
              "#fb9f3a"
             ],
             [
              0.8888888888888888,
              "#fdca26"
             ],
             [
              1,
              "#f0f921"
             ]
            ],
            "type": "contour"
           }
          ],
          "contourcarpet": [
           {
            "colorbar": {
             "outlinewidth": 0,
             "ticks": ""
            },
            "type": "contourcarpet"
           }
          ],
          "heatmap": [
           {
            "colorbar": {
             "outlinewidth": 0,
             "ticks": ""
            },
            "colorscale": [
             [
              0,
              "#0d0887"
             ],
             [
              0.1111111111111111,
              "#46039f"
             ],
             [
              0.2222222222222222,
              "#7201a8"
             ],
             [
              0.3333333333333333,
              "#9c179e"
             ],
             [
              0.4444444444444444,
              "#bd3786"
             ],
             [
              0.5555555555555556,
              "#d8576b"
             ],
             [
              0.6666666666666666,
              "#ed7953"
             ],
             [
              0.7777777777777778,
              "#fb9f3a"
             ],
             [
              0.8888888888888888,
              "#fdca26"
             ],
             [
              1,
              "#f0f921"
             ]
            ],
            "type": "heatmap"
           }
          ],
          "heatmapgl": [
           {
            "colorbar": {
             "outlinewidth": 0,
             "ticks": ""
            },
            "colorscale": [
             [
              0,
              "#0d0887"
             ],
             [
              0.1111111111111111,
              "#46039f"
             ],
             [
              0.2222222222222222,
              "#7201a8"
             ],
             [
              0.3333333333333333,
              "#9c179e"
             ],
             [
              0.4444444444444444,
              "#bd3786"
             ],
             [
              0.5555555555555556,
              "#d8576b"
             ],
             [
              0.6666666666666666,
              "#ed7953"
             ],
             [
              0.7777777777777778,
              "#fb9f3a"
             ],
             [
              0.8888888888888888,
              "#fdca26"
             ],
             [
              1,
              "#f0f921"
             ]
            ],
            "type": "heatmapgl"
           }
          ],
          "histogram": [
           {
            "marker": {
             "pattern": {
              "fillmode": "overlay",
              "size": 10,
              "solidity": 0.2
             }
            },
            "type": "histogram"
           }
          ],
          "histogram2d": [
           {
            "colorbar": {
             "outlinewidth": 0,
             "ticks": ""
            },
            "colorscale": [
             [
              0,
              "#0d0887"
             ],
             [
              0.1111111111111111,
              "#46039f"
             ],
             [
              0.2222222222222222,
              "#7201a8"
             ],
             [
              0.3333333333333333,
              "#9c179e"
             ],
             [
              0.4444444444444444,
              "#bd3786"
             ],
             [
              0.5555555555555556,
              "#d8576b"
             ],
             [
              0.6666666666666666,
              "#ed7953"
             ],
             [
              0.7777777777777778,
              "#fb9f3a"
             ],
             [
              0.8888888888888888,
              "#fdca26"
             ],
             [
              1,
              "#f0f921"
             ]
            ],
            "type": "histogram2d"
           }
          ],
          "histogram2dcontour": [
           {
            "colorbar": {
             "outlinewidth": 0,
             "ticks": ""
            },
            "colorscale": [
             [
              0,
              "#0d0887"
             ],
             [
              0.1111111111111111,
              "#46039f"
             ],
             [
              0.2222222222222222,
              "#7201a8"
             ],
             [
              0.3333333333333333,
              "#9c179e"
             ],
             [
              0.4444444444444444,
              "#bd3786"
             ],
             [
              0.5555555555555556,
              "#d8576b"
             ],
             [
              0.6666666666666666,
              "#ed7953"
             ],
             [
              0.7777777777777778,
              "#fb9f3a"
             ],
             [
              0.8888888888888888,
              "#fdca26"
             ],
             [
              1,
              "#f0f921"
             ]
            ],
            "type": "histogram2dcontour"
           }
          ],
          "mesh3d": [
           {
            "colorbar": {
             "outlinewidth": 0,
             "ticks": ""
            },
            "type": "mesh3d"
           }
          ],
          "parcoords": [
           {
            "line": {
             "colorbar": {
              "outlinewidth": 0,
              "ticks": ""
             }
            },
            "type": "parcoords"
           }
          ],
          "pie": [
           {
            "automargin": true,
            "type": "pie"
           }
          ],
          "scatter": [
           {
            "marker": {
             "colorbar": {
              "outlinewidth": 0,
              "ticks": ""
             }
            },
            "type": "scatter"
           }
          ],
          "scatter3d": [
           {
            "line": {
             "colorbar": {
              "outlinewidth": 0,
              "ticks": ""
             }
            },
            "marker": {
             "colorbar": {
              "outlinewidth": 0,
              "ticks": ""
             }
            },
            "type": "scatter3d"
           }
          ],
          "scattercarpet": [
           {
            "marker": {
             "colorbar": {
              "outlinewidth": 0,
              "ticks": ""
             }
            },
            "type": "scattercarpet"
           }
          ],
          "scattergeo": [
           {
            "marker": {
             "colorbar": {
              "outlinewidth": 0,
              "ticks": ""
             }
            },
            "type": "scattergeo"
           }
          ],
          "scattergl": [
           {
            "marker": {
             "colorbar": {
              "outlinewidth": 0,
              "ticks": ""
             }
            },
            "type": "scattergl"
           }
          ],
          "scattermapbox": [
           {
            "marker": {
             "colorbar": {
              "outlinewidth": 0,
              "ticks": ""
             }
            },
            "type": "scattermapbox"
           }
          ],
          "scatterpolar": [
           {
            "marker": {
             "colorbar": {
              "outlinewidth": 0,
              "ticks": ""
             }
            },
            "type": "scatterpolar"
           }
          ],
          "scatterpolargl": [
           {
            "marker": {
             "colorbar": {
              "outlinewidth": 0,
              "ticks": ""
             }
            },
            "type": "scatterpolargl"
           }
          ],
          "scatterternary": [
           {
            "marker": {
             "colorbar": {
              "outlinewidth": 0,
              "ticks": ""
             }
            },
            "type": "scatterternary"
           }
          ],
          "surface": [
           {
            "colorbar": {
             "outlinewidth": 0,
             "ticks": ""
            },
            "colorscale": [
             [
              0,
              "#0d0887"
             ],
             [
              0.1111111111111111,
              "#46039f"
             ],
             [
              0.2222222222222222,
              "#7201a8"
             ],
             [
              0.3333333333333333,
              "#9c179e"
             ],
             [
              0.4444444444444444,
              "#bd3786"
             ],
             [
              0.5555555555555556,
              "#d8576b"
             ],
             [
              0.6666666666666666,
              "#ed7953"
             ],
             [
              0.7777777777777778,
              "#fb9f3a"
             ],
             [
              0.8888888888888888,
              "#fdca26"
             ],
             [
              1,
              "#f0f921"
             ]
            ],
            "type": "surface"
           }
          ],
          "table": [
           {
            "cells": {
             "fill": {
              "color": "#EBF0F8"
             },
             "line": {
              "color": "white"
             }
            },
            "header": {
             "fill": {
              "color": "#C8D4E3"
             },
             "line": {
              "color": "white"
             }
            },
            "type": "table"
           }
          ]
         },
         "layout": {
          "annotationdefaults": {
           "arrowcolor": "#2a3f5f",
           "arrowhead": 0,
           "arrowwidth": 1
          },
          "autotypenumbers": "strict",
          "coloraxis": {
           "colorbar": {
            "outlinewidth": 0,
            "ticks": ""
           }
          },
          "colorscale": {
           "diverging": [
            [
             0,
             "#8e0152"
            ],
            [
             0.1,
             "#c51b7d"
            ],
            [
             0.2,
             "#de77ae"
            ],
            [
             0.3,
             "#f1b6da"
            ],
            [
             0.4,
             "#fde0ef"
            ],
            [
             0.5,
             "#f7f7f7"
            ],
            [
             0.6,
             "#e6f5d0"
            ],
            [
             0.7,
             "#b8e186"
            ],
            [
             0.8,
             "#7fbc41"
            ],
            [
             0.9,
             "#4d9221"
            ],
            [
             1,
             "#276419"
            ]
           ],
           "sequential": [
            [
             0,
             "#0d0887"
            ],
            [
             0.1111111111111111,
             "#46039f"
            ],
            [
             0.2222222222222222,
             "#7201a8"
            ],
            [
             0.3333333333333333,
             "#9c179e"
            ],
            [
             0.4444444444444444,
             "#bd3786"
            ],
            [
             0.5555555555555556,
             "#d8576b"
            ],
            [
             0.6666666666666666,
             "#ed7953"
            ],
            [
             0.7777777777777778,
             "#fb9f3a"
            ],
            [
             0.8888888888888888,
             "#fdca26"
            ],
            [
             1,
             "#f0f921"
            ]
           ],
           "sequentialminus": [
            [
             0,
             "#0d0887"
            ],
            [
             0.1111111111111111,
             "#46039f"
            ],
            [
             0.2222222222222222,
             "#7201a8"
            ],
            [
             0.3333333333333333,
             "#9c179e"
            ],
            [
             0.4444444444444444,
             "#bd3786"
            ],
            [
             0.5555555555555556,
             "#d8576b"
            ],
            [
             0.6666666666666666,
             "#ed7953"
            ],
            [
             0.7777777777777778,
             "#fb9f3a"
            ],
            [
             0.8888888888888888,
             "#fdca26"
            ],
            [
             1,
             "#f0f921"
            ]
           ]
          },
          "colorway": [
           "#636efa",
           "#EF553B",
           "#00cc96",
           "#ab63fa",
           "#FFA15A",
           "#19d3f3",
           "#FF6692",
           "#B6E880",
           "#FF97FF",
           "#FECB52"
          ],
          "font": {
           "color": "#2a3f5f"
          },
          "geo": {
           "bgcolor": "white",
           "lakecolor": "white",
           "landcolor": "#E5ECF6",
           "showlakes": true,
           "showland": true,
           "subunitcolor": "white"
          },
          "hoverlabel": {
           "align": "left"
          },
          "hovermode": "closest",
          "mapbox": {
           "style": "light"
          },
          "paper_bgcolor": "white",
          "plot_bgcolor": "#E5ECF6",
          "polar": {
           "angularaxis": {
            "gridcolor": "white",
            "linecolor": "white",
            "ticks": ""
           },
           "bgcolor": "#E5ECF6",
           "radialaxis": {
            "gridcolor": "white",
            "linecolor": "white",
            "ticks": ""
           }
          },
          "scene": {
           "xaxis": {
            "backgroundcolor": "#E5ECF6",
            "gridcolor": "white",
            "gridwidth": 2,
            "linecolor": "white",
            "showbackground": true,
            "ticks": "",
            "zerolinecolor": "white"
           },
           "yaxis": {
            "backgroundcolor": "#E5ECF6",
            "gridcolor": "white",
            "gridwidth": 2,
            "linecolor": "white",
            "showbackground": true,
            "ticks": "",
            "zerolinecolor": "white"
           },
           "zaxis": {
            "backgroundcolor": "#E5ECF6",
            "gridcolor": "white",
            "gridwidth": 2,
            "linecolor": "white",
            "showbackground": true,
            "ticks": "",
            "zerolinecolor": "white"
           }
          },
          "shapedefaults": {
           "line": {
            "color": "#2a3f5f"
           }
          },
          "ternary": {
           "aaxis": {
            "gridcolor": "white",
            "linecolor": "white",
            "ticks": ""
           },
           "baxis": {
            "gridcolor": "white",
            "linecolor": "white",
            "ticks": ""
           },
           "bgcolor": "#E5ECF6",
           "caxis": {
            "gridcolor": "white",
            "linecolor": "white",
            "ticks": ""
           }
          },
          "title": {
           "x": 0.05
          },
          "xaxis": {
           "automargin": true,
           "gridcolor": "white",
           "linecolor": "white",
           "ticks": "",
           "title": {
            "standoff": 15
           },
           "zerolinecolor": "white",
           "zerolinewidth": 2
          },
          "yaxis": {
           "automargin": true,
           "gridcolor": "white",
           "linecolor": "white",
           "ticks": "",
           "title": {
            "standoff": 15
           },
           "zerolinecolor": "white",
           "zerolinewidth": 2
          }
         }
        },
        "title": {
         "text": "Poblacion por ciudad:"
        },
        "xaxis": {
         "anchor": "y",
         "domain": [
          0,
          1
         ],
         "title": {
          "text": "Ciudad"
         }
        },
        "yaxis": {
         "anchor": "x",
         "domain": [
          0,
          1
         ],
         "title": {
          "text": "Poblacion"
         }
        }
       }
      },
      "text/html": [
       "<div>                            <div id=\"5c147947-a82e-439c-93a4-3d0860e07003\" class=\"plotly-graph-div\" style=\"height:525px; width:100%;\"></div>            <script type=\"text/javascript\">                require([\"plotly\"], function(Plotly) {                    window.PLOTLYENV=window.PLOTLYENV || {};                                    if (document.getElementById(\"5c147947-a82e-439c-93a4-3d0860e07003\")) {                    Plotly.newPlot(                        \"5c147947-a82e-439c-93a4-3d0860e07003\",                        [{\"alignmentgroup\":\"True\",\"hovertemplate\":\"Ciudad=%{x}<br>Poblacion=%{y}<extra></extra>\",\"legendgroup\":\"\",\"marker\":{\"color\":\"#636efa\",\"pattern\":{\"shape\":\"\"}},\"name\":\"\",\"offsetgroup\":\"\",\"orientation\":\"v\",\"showlegend\":false,\"textposition\":\"auto\",\"x\":[\"China\",\"India\",\"US\",\"Indonesia\",\"Pakistan\",\"Brazil\",\"Nigeria\",\"Bangladesh\",\"Russia\",\"Japan\",\"Mexico\",\"Ethiopia\",\"Philippines\",\"Egypt\",\"Vietnam\",\"Congo (Kinshasa)\",\"Germany\",\"Turkey\",\"Iran\",\"Thailand\",\"France\",\"UK\",\"Italy\",\"South Africa\",\"Tanzania\",\"Burma\",\"Korea, South\",\"Kenya\",\"Colombia\",\"Spain\",\"Ukraine\",\"Argentina\",\"Uganda\",\"Algeria\",\"Sudan\",\"Iraq\",\"Poland\",\"Afghanistan\",\"Canada\",\"Morocco\",\"Saudi Arabia\",\"Uzbekistan\",\"Peru\",\"Malaysia\",\"Angola\",\"Ghana\",\"Mozambique\",\"Venezuela\",\"Yemen\",\"Nepal\",\"Madagascar\",\"Cameroon\",\"Cote d'Ivoire\",\"Australia\",\"Taiwan*\",\"Niger\",\"Sri Lanka\",\"Burkina Faso\",\"Romania\",\"Mali\",\"Chile\",\"Kazakhstan\",\"Malawi\",\"Zambia\",\"Guatemala\",\"Netherlands\",\"Ecuador\",\"Syria\",\"Cambodia\",\"Senegal\",\"Chad\",\"Somalia\",\"Zimbabwe\",\"Guinea\",\"Rwanda\",\"Tunisia\",\"Benin\",\"Belgium\",\"Bolivia\",\"Cuba\",\"Burundi\",\"Haiti\",\"South Sudan\",\"Greece\",\"Czechia\",\"Dominican Republic\",\"Portugal\",\"Sweden\",\"Jordan\",\"Azerbaijan\",\"Hungary\",\"United Arab Emirates\",\"Honduras\",\"Belarus\",\"Tajikistan\",\"Israel\",\"Austria\",\"Papua New Guinea\",\"Switzerland\",\"Togo\",\"Sierra Leone\",\"Laos\",\"Bulgaria\",\"Serbia\",\"Paraguay\",\"Lebanon\",\"Libya\",\"Nicaragua\",\"El Salvador\",\"Kyrgyzstan\",\"Denmark\",\"Singapore\",\"Finland\",\"Slovakia\",\"Norway\",\"Congo (Brazzaville)\",\"Eritrea\",\"Costa Rica\",\"Ireland\",\"New Zealand\",\"Oman\",\"Liberia\",\"Central African Republic\",\"West Bank and Gaza\",\"Mauritania\",\"Panama\",\"Kuwait\",\"Croatia\",\"Georgia\",\"Uruguay\",\"Bosnia and Herzegovina\",\"Mongolia\",\"Armenia\",\"Jamaica\",\"Albania\",\"Lithuania\",\"Qatar\",\"Moldova\",\"Namibia\",\"Gambia\",\"Botswana\",\"Gabon\",\"Lesotho\",\"North Macedonia\",\"Slovenia\",\"Latvia\",\"Guinea-Bissau\",\"Kosovo\",\"Bahrain\",\"Trinidad and Tobago\",\"Estonia\",\"Equatorial Guinea\",\"Timor-Leste\",\"Mauritius\",\"Cyprus\",\"Eswatini\",\"Djibouti\",\"Fiji\",\"Comoros\",\"Guyana\",\"Bhutan\",\"Montenegro\",\"Luxembourg\",\"Suriname\",\"Cabo Verde\",\"Maldives\",\"Malta\",\"Brunei\",\"Bahamas\",\"Belize\",\"Iceland\",\"Barbados\",\"Sao Tome and Principe\",\"Saint Lucia\",\"Grenada\",\"Saint Vincent and the Grenadines\",\"Seychelles\",\"Antigua and Barbuda\",\"Andorra\",\"Dominica\",\"Saint Kitts and Nevis\",\"Monaco\",\"Liechtenstein\"],\"xaxis\":\"x\",\"y\":[1392730000,1352617328,326687501,267663435,212215030,209469333,195874740,161356039,144478050,126529100,126190788,109224559,106651922,98423595,95540395,84068091,82905782,82319724,81800269,69428524,66977107,66460344,60455545,57779622,56318348,53708395,51606633,51393010,49648685,46796540,44622516,44494502,42723139,42228429,41801533,38433600,37974750,37172386,37057765,36029138,33699947,32955400,31989256,31528585,30809762,29767108,29495962,28870195,28498687,28087871,26262368,25216237,25069229,24982688,23780000,22442948,21670000,19751535,19466145,19077690,18729160,18272430,18143315,17351822,17247807,17231624,17084357,16906283,16249798,15854360,15477751,15008154,14439018,12414318,12301939,11565204,11485048,11433256,11353142,11338138,11175378,11123176,10975920,10731726,10629928,10627165,10283822,10175214,9956011,9939800,9775564,9630959,9587522,9483499,9100837,8882800,8840521,8606316,8513227,7889094,7650154,7061507,7025037,6982604,6956071,6848925,6678567,6465513,6420744,6322800,5793636,5638676,5515525,5446771,5311916,5244363,5100000,4999441,4867309,4841000,4829483,4818977,4666377,4569087,4403319,4176873,4137309,4087843,3726549,3449299,3323929,3170208,2951776,2934855,2866376,2801543,2781677,2706049,2448255,2280102,2254126,2119275,2108132,2082958,2073894,1927174,1874309,1845300,1569439,1389858,1321977,1308974,1267972,1265303,1189265,1136191,958920,883483,832322,779004,754394,622227,607950,575991,543767,515696,484630,428962,385640,383071,352721,286641,211028,181889,111454,110210,96762,96286,77006,71625,52441,38682,37910],\"yaxis\":\"y\",\"type\":\"bar\"}],                        {\"template\":{\"data\":{\"bar\":[{\"error_x\":{\"color\":\"#2a3f5f\"},\"error_y\":{\"color\":\"#2a3f5f\"},\"marker\":{\"line\":{\"color\":\"#E5ECF6\",\"width\":0.5},\"pattern\":{\"fillmode\":\"overlay\",\"size\":10,\"solidity\":0.2}},\"type\":\"bar\"}],\"barpolar\":[{\"marker\":{\"line\":{\"color\":\"#E5ECF6\",\"width\":0.5},\"pattern\":{\"fillmode\":\"overlay\",\"size\":10,\"solidity\":0.2}},\"type\":\"barpolar\"}],\"carpet\":[{\"aaxis\":{\"endlinecolor\":\"#2a3f5f\",\"gridcolor\":\"white\",\"linecolor\":\"white\",\"minorgridcolor\":\"white\",\"startlinecolor\":\"#2a3f5f\"},\"baxis\":{\"endlinecolor\":\"#2a3f5f\",\"gridcolor\":\"white\",\"linecolor\":\"white\",\"minorgridcolor\":\"white\",\"startlinecolor\":\"#2a3f5f\"},\"type\":\"carpet\"}],\"choropleth\":[{\"colorbar\":{\"outlinewidth\":0,\"ticks\":\"\"},\"type\":\"choropleth\"}],\"contour\":[{\"colorbar\":{\"outlinewidth\":0,\"ticks\":\"\"},\"colorscale\":[[0.0,\"#0d0887\"],[0.1111111111111111,\"#46039f\"],[0.2222222222222222,\"#7201a8\"],[0.3333333333333333,\"#9c179e\"],[0.4444444444444444,\"#bd3786\"],[0.5555555555555556,\"#d8576b\"],[0.6666666666666666,\"#ed7953\"],[0.7777777777777778,\"#fb9f3a\"],[0.8888888888888888,\"#fdca26\"],[1.0,\"#f0f921\"]],\"type\":\"contour\"}],\"contourcarpet\":[{\"colorbar\":{\"outlinewidth\":0,\"ticks\":\"\"},\"type\":\"contourcarpet\"}],\"heatmap\":[{\"colorbar\":{\"outlinewidth\":0,\"ticks\":\"\"},\"colorscale\":[[0.0,\"#0d0887\"],[0.1111111111111111,\"#46039f\"],[0.2222222222222222,\"#7201a8\"],[0.3333333333333333,\"#9c179e\"],[0.4444444444444444,\"#bd3786\"],[0.5555555555555556,\"#d8576b\"],[0.6666666666666666,\"#ed7953\"],[0.7777777777777778,\"#fb9f3a\"],[0.8888888888888888,\"#fdca26\"],[1.0,\"#f0f921\"]],\"type\":\"heatmap\"}],\"heatmapgl\":[{\"colorbar\":{\"outlinewidth\":0,\"ticks\":\"\"},\"colorscale\":[[0.0,\"#0d0887\"],[0.1111111111111111,\"#46039f\"],[0.2222222222222222,\"#7201a8\"],[0.3333333333333333,\"#9c179e\"],[0.4444444444444444,\"#bd3786\"],[0.5555555555555556,\"#d8576b\"],[0.6666666666666666,\"#ed7953\"],[0.7777777777777778,\"#fb9f3a\"],[0.8888888888888888,\"#fdca26\"],[1.0,\"#f0f921\"]],\"type\":\"heatmapgl\"}],\"histogram\":[{\"marker\":{\"pattern\":{\"fillmode\":\"overlay\",\"size\":10,\"solidity\":0.2}},\"type\":\"histogram\"}],\"histogram2d\":[{\"colorbar\":{\"outlinewidth\":0,\"ticks\":\"\"},\"colorscale\":[[0.0,\"#0d0887\"],[0.1111111111111111,\"#46039f\"],[0.2222222222222222,\"#7201a8\"],[0.3333333333333333,\"#9c179e\"],[0.4444444444444444,\"#bd3786\"],[0.5555555555555556,\"#d8576b\"],[0.6666666666666666,\"#ed7953\"],[0.7777777777777778,\"#fb9f3a\"],[0.8888888888888888,\"#fdca26\"],[1.0,\"#f0f921\"]],\"type\":\"histogram2d\"}],\"histogram2dcontour\":[{\"colorbar\":{\"outlinewidth\":0,\"ticks\":\"\"},\"colorscale\":[[0.0,\"#0d0887\"],[0.1111111111111111,\"#46039f\"],[0.2222222222222222,\"#7201a8\"],[0.3333333333333333,\"#9c179e\"],[0.4444444444444444,\"#bd3786\"],[0.5555555555555556,\"#d8576b\"],[0.6666666666666666,\"#ed7953\"],[0.7777777777777778,\"#fb9f3a\"],[0.8888888888888888,\"#fdca26\"],[1.0,\"#f0f921\"]],\"type\":\"histogram2dcontour\"}],\"mesh3d\":[{\"colorbar\":{\"outlinewidth\":0,\"ticks\":\"\"},\"type\":\"mesh3d\"}],\"parcoords\":[{\"line\":{\"colorbar\":{\"outlinewidth\":0,\"ticks\":\"\"}},\"type\":\"parcoords\"}],\"pie\":[{\"automargin\":true,\"type\":\"pie\"}],\"scatter\":[{\"marker\":{\"colorbar\":{\"outlinewidth\":0,\"ticks\":\"\"}},\"type\":\"scatter\"}],\"scatter3d\":[{\"line\":{\"colorbar\":{\"outlinewidth\":0,\"ticks\":\"\"}},\"marker\":{\"colorbar\":{\"outlinewidth\":0,\"ticks\":\"\"}},\"type\":\"scatter3d\"}],\"scattercarpet\":[{\"marker\":{\"colorbar\":{\"outlinewidth\":0,\"ticks\":\"\"}},\"type\":\"scattercarpet\"}],\"scattergeo\":[{\"marker\":{\"colorbar\":{\"outlinewidth\":0,\"ticks\":\"\"}},\"type\":\"scattergeo\"}],\"scattergl\":[{\"marker\":{\"colorbar\":{\"outlinewidth\":0,\"ticks\":\"\"}},\"type\":\"scattergl\"}],\"scattermapbox\":[{\"marker\":{\"colorbar\":{\"outlinewidth\":0,\"ticks\":\"\"}},\"type\":\"scattermapbox\"}],\"scatterpolar\":[{\"marker\":{\"colorbar\":{\"outlinewidth\":0,\"ticks\":\"\"}},\"type\":\"scatterpolar\"}],\"scatterpolargl\":[{\"marker\":{\"colorbar\":{\"outlinewidth\":0,\"ticks\":\"\"}},\"type\":\"scatterpolargl\"}],\"scatterternary\":[{\"marker\":{\"colorbar\":{\"outlinewidth\":0,\"ticks\":\"\"}},\"type\":\"scatterternary\"}],\"surface\":[{\"colorbar\":{\"outlinewidth\":0,\"ticks\":\"\"},\"colorscale\":[[0.0,\"#0d0887\"],[0.1111111111111111,\"#46039f\"],[0.2222222222222222,\"#7201a8\"],[0.3333333333333333,\"#9c179e\"],[0.4444444444444444,\"#bd3786\"],[0.5555555555555556,\"#d8576b\"],[0.6666666666666666,\"#ed7953\"],[0.7777777777777778,\"#fb9f3a\"],[0.8888888888888888,\"#fdca26\"],[1.0,\"#f0f921\"]],\"type\":\"surface\"}],\"table\":[{\"cells\":{\"fill\":{\"color\":\"#EBF0F8\"},\"line\":{\"color\":\"white\"}},\"header\":{\"fill\":{\"color\":\"#C8D4E3\"},\"line\":{\"color\":\"white\"}},\"type\":\"table\"}]},\"layout\":{\"annotationdefaults\":{\"arrowcolor\":\"#2a3f5f\",\"arrowhead\":0,\"arrowwidth\":1},\"autotypenumbers\":\"strict\",\"coloraxis\":{\"colorbar\":{\"outlinewidth\":0,\"ticks\":\"\"}},\"colorscale\":{\"diverging\":[[0,\"#8e0152\"],[0.1,\"#c51b7d\"],[0.2,\"#de77ae\"],[0.3,\"#f1b6da\"],[0.4,\"#fde0ef\"],[0.5,\"#f7f7f7\"],[0.6,\"#e6f5d0\"],[0.7,\"#b8e186\"],[0.8,\"#7fbc41\"],[0.9,\"#4d9221\"],[1,\"#276419\"]],\"sequential\":[[0.0,\"#0d0887\"],[0.1111111111111111,\"#46039f\"],[0.2222222222222222,\"#7201a8\"],[0.3333333333333333,\"#9c179e\"],[0.4444444444444444,\"#bd3786\"],[0.5555555555555556,\"#d8576b\"],[0.6666666666666666,\"#ed7953\"],[0.7777777777777778,\"#fb9f3a\"],[0.8888888888888888,\"#fdca26\"],[1.0,\"#f0f921\"]],\"sequentialminus\":[[0.0,\"#0d0887\"],[0.1111111111111111,\"#46039f\"],[0.2222222222222222,\"#7201a8\"],[0.3333333333333333,\"#9c179e\"],[0.4444444444444444,\"#bd3786\"],[0.5555555555555556,\"#d8576b\"],[0.6666666666666666,\"#ed7953\"],[0.7777777777777778,\"#fb9f3a\"],[0.8888888888888888,\"#fdca26\"],[1.0,\"#f0f921\"]]},\"colorway\":[\"#636efa\",\"#EF553B\",\"#00cc96\",\"#ab63fa\",\"#FFA15A\",\"#19d3f3\",\"#FF6692\",\"#B6E880\",\"#FF97FF\",\"#FECB52\"],\"font\":{\"color\":\"#2a3f5f\"},\"geo\":{\"bgcolor\":\"white\",\"lakecolor\":\"white\",\"landcolor\":\"#E5ECF6\",\"showlakes\":true,\"showland\":true,\"subunitcolor\":\"white\"},\"hoverlabel\":{\"align\":\"left\"},\"hovermode\":\"closest\",\"mapbox\":{\"style\":\"light\"},\"paper_bgcolor\":\"white\",\"plot_bgcolor\":\"#E5ECF6\",\"polar\":{\"angularaxis\":{\"gridcolor\":\"white\",\"linecolor\":\"white\",\"ticks\":\"\"},\"bgcolor\":\"#E5ECF6\",\"radialaxis\":{\"gridcolor\":\"white\",\"linecolor\":\"white\",\"ticks\":\"\"}},\"scene\":{\"xaxis\":{\"backgroundcolor\":\"#E5ECF6\",\"gridcolor\":\"white\",\"gridwidth\":2,\"linecolor\":\"white\",\"showbackground\":true,\"ticks\":\"\",\"zerolinecolor\":\"white\"},\"yaxis\":{\"backgroundcolor\":\"#E5ECF6\",\"gridcolor\":\"white\",\"gridwidth\":2,\"linecolor\":\"white\",\"showbackground\":true,\"ticks\":\"\",\"zerolinecolor\":\"white\"},\"zaxis\":{\"backgroundcolor\":\"#E5ECF6\",\"gridcolor\":\"white\",\"gridwidth\":2,\"linecolor\":\"white\",\"showbackground\":true,\"ticks\":\"\",\"zerolinecolor\":\"white\"}},\"shapedefaults\":{\"line\":{\"color\":\"#2a3f5f\"}},\"ternary\":{\"aaxis\":{\"gridcolor\":\"white\",\"linecolor\":\"white\",\"ticks\":\"\"},\"baxis\":{\"gridcolor\":\"white\",\"linecolor\":\"white\",\"ticks\":\"\"},\"bgcolor\":\"#E5ECF6\",\"caxis\":{\"gridcolor\":\"white\",\"linecolor\":\"white\",\"ticks\":\"\"}},\"title\":{\"x\":0.05},\"xaxis\":{\"automargin\":true,\"gridcolor\":\"white\",\"linecolor\":\"white\",\"ticks\":\"\",\"title\":{\"standoff\":15},\"zerolinecolor\":\"white\",\"zerolinewidth\":2},\"yaxis\":{\"automargin\":true,\"gridcolor\":\"white\",\"linecolor\":\"white\",\"ticks\":\"\",\"title\":{\"standoff\":15},\"zerolinecolor\":\"white\",\"zerolinewidth\":2}}},\"xaxis\":{\"anchor\":\"y\",\"domain\":[0.0,1.0],\"title\":{\"text\":\"Ciudad\"}},\"yaxis\":{\"anchor\":\"x\",\"domain\":[0.0,1.0],\"title\":{\"text\":\"Poblacion\"}},\"legend\":{\"tracegroupgap\":0},\"title\":{\"text\":\"Poblacion por ciudad:\"},\"barmode\":\"relative\"},                        {\"responsive\": true}                    ).then(function(){\n",
       "                            \n",
       "var gd = document.getElementById('5c147947-a82e-439c-93a4-3d0860e07003');\n",
       "var x = new MutationObserver(function (mutations, observer) {{\n",
       "        var display = window.getComputedStyle(gd).display;\n",
       "        if (!display || display === 'none') {{\n",
       "            console.log([gd, 'removed!']);\n",
       "            Plotly.purge(gd);\n",
       "            observer.disconnect();\n",
       "        }}\n",
       "}});\n",
       "\n",
       "// Listen for the removal of the full notebook cells\n",
       "var notebookContainer = gd.closest('#notebook-container');\n",
       "if (notebookContainer) {{\n",
       "    x.observe(notebookContainer, {childList: true});\n",
       "}}\n",
       "\n",
       "// Listen for the clearing of the current output cell\n",
       "var outputEl = gd.closest('.output');\n",
       "if (outputEl) {{\n",
       "    x.observe(outputEl, {childList: true});\n",
       "}}\n",
       "\n",
       "                        })                };                });            </script>        </div>"
      ]
     },
     "metadata": {},
     "output_type": "display_data"
    }
   ],
   "source": [
    "'''Graficar'''\n",
    "fig = px.bar(df_total,x='Unnamed: 0',y='Value',labels={'Unnamed: 0':'Ciudad','Value':'Poblacion'},title=\"Poblacion por ciudad:\") \n",
    "fig.show()"
   ]
  },
  {
   "cell_type": "code",
   "execution_count": 11,
   "id": "a6a209f1",
   "metadata": {},
   "outputs": [
    {
     "data": {
      "text/plain": [
       "count     183.000000\n",
       "mean       41.249227\n",
       "std       148.012775\n",
       "min         0.037910\n",
       "25%         2.743863\n",
       "50%         9.630959\n",
       "75%        29.631535\n",
       "max      1392.730000\n",
       "Name: Value, dtype: float64"
      ]
     },
     "execution_count": 11,
     "metadata": {},
     "output_type": "execute_result"
    }
   ],
   "source": [
    "''' '''\n",
    "df.describe()"
   ]
  },
  {
   "cell_type": "code",
   "execution_count": 13,
   "id": "0946df39",
   "metadata": {},
   "outputs": [
    {
     "data": {
      "text/plain": [
       "41.24922684153004"
      ]
     },
     "execution_count": 13,
     "metadata": {},
     "output_type": "execute_result"
    }
   ],
   "source": [
    "media = df.mean()\n",
    "media"
   ]
  },
  {
   "cell_type": "code",
   "execution_count": 15,
   "id": "7b8c3820",
   "metadata": {},
   "outputs": [
    {
     "data": {
      "text/plain": [
       "9.630959"
      ]
     },
     "execution_count": 15,
     "metadata": {},
     "output_type": "execute_result"
    }
   ],
   "source": [
    "mediana = df.median()\n",
    "mediana"
   ]
  },
  {
   "cell_type": "code",
   "execution_count": 16,
   "id": "1c92fad8",
   "metadata": {},
   "outputs": [
    {
     "data": {
      "text/plain": [
       "0         0.037910\n",
       "1         0.038682\n",
       "2         0.052441\n",
       "3         0.071625\n",
       "4         0.077006\n",
       "          ...     \n",
       "178     212.215030\n",
       "179     267.663435\n",
       "180     326.687501\n",
       "181    1352.617328\n",
       "182    1392.730000\n",
       "Name: Value, Length: 183, dtype: float64"
      ]
     },
     "execution_count": 16,
     "metadata": {},
     "output_type": "execute_result"
    }
   ],
   "source": [
    "moda = df.mode()\n",
    "moda"
   ]
  },
  {
   "cell_type": "code",
   "execution_count": 17,
   "id": "eaf73b8e",
   "metadata": {},
   "outputs": [
    {
     "name": "stdout",
     "output_type": "stream",
     "text": [
      " Valor máximo : 1392.73\n",
      " Valor mínimo : 0.03791\n"
     ]
    }
   ],
   "source": [
    "print(\" Valor máximo :\", df.max())\n",
    "print(\" Valor mínimo :\", df.min())"
   ]
  },
  {
   "cell_type": "code",
   "execution_count": 5,
   "id": "00a44372",
   "metadata": {},
   "outputs": [
    {
     "data": {
      "text/plain": [
       "50.923121459524026"
      ]
     },
     "execution_count": 5,
     "metadata": {},
     "output_type": "execute_result"
    }
   ],
   "source": [
    "'''Desvio medio'''\n",
    "md = df.mad()\n",
    "md"
   ]
  },
  {
   "cell_type": "code",
   "execution_count": 6,
   "id": "c693f605",
   "metadata": {},
   "outputs": [
    {
     "data": {
      "text/plain": [
       "'Es decir, en promedio los valores están a 50.93 millones de unidades de la Media'"
      ]
     },
     "execution_count": 6,
     "metadata": {},
     "output_type": "execute_result"
    }
   ],
   "source": [
    "'''Es decir, en promedio los valores están a 50.93 millones de unidades de la Media'''"
   ]
  },
  {
   "cell_type": "code",
   "execution_count": 7,
   "id": "49ae0091",
   "metadata": {},
   "outputs": [
    {
     "data": {
      "text/plain": [
       "21788.066901743456"
      ]
     },
     "execution_count": 7,
     "metadata": {},
     "output_type": "execute_result"
    }
   ],
   "source": [
    "'''Varianza'''\n",
    "var = df.var(ddof=0)\n",
    "var"
   ]
  },
  {
   "cell_type": "code",
   "execution_count": 8,
   "id": "011f837f",
   "metadata": {},
   "outputs": [
    {
     "data": {
      "text/plain": [
       "147.60781450093845"
      ]
     },
     "execution_count": 8,
     "metadata": {},
     "output_type": "execute_result"
    }
   ],
   "source": [
    "'''Desviacion tipica/estandard'''\n",
    "std = df.std(ddof=0)\n",
    "std"
   ]
  },
  {
   "cell_type": "code",
   "execution_count": 18,
   "id": "3e86b25d",
   "metadata": {},
   "outputs": [
    {
     "data": {
      "text/plain": [
       "0.25     2.743863\n",
       "0.50     9.630959\n",
       "0.75    29.631535\n",
       "Name: Value, dtype: float64"
      ]
     },
     "execution_count": 18,
     "metadata": {},
     "output_type": "execute_result"
    }
   ],
   "source": [
    "df.quantile([.25,.50,.75])"
   ]
  },
  {
   "cell_type": "code",
   "execution_count": 20,
   "id": "98176025",
   "metadata": {},
   "outputs": [
    {
     "data": {
      "image/png": "[encoded data removed]",
      "text/plain": [
       "<Figure size 640x480 with 1 Axes>"
      ]
     },
     "metadata": {},
     "output_type": "display_data"
    },
    {
     "data": {
      "text/plain": [
       "<ggplot: (123059523756)>"
      ]
     },
     "execution_count": 20,
     "metadata": {},
     "output_type": "execute_result"
    }
   ],
   "source": [
    "(ggplot(df_total) +\n",
    "  geom_boxplot(aes(x=0, y=\"Value\")) +\n",
    "  labs(x=\"\") +\n",
    "  theme(\n",
    "    axis_text_x=element_blank(),\n",
    "    axis_ticks_minor_x=element_blank(),\n",
    "    axis_ticks_major_x=element_blank()\n",
    "  ))"
   ]
  },
  {
   "cell_type": "markdown",
   "id": "583b4a9f",
   "metadata": {},
   "source": [
    "Las medidas de posición nos permiten resumir la distribución de una variable muy rápidamente, y si además utilizamos un diagrama de cajas, mejor. Esto las convierte en unas de las herramientas más poderosas de la estadística descriptiva. El hecho que los datos no contengan datos atipiocos, no se determinan errores con el mismo hecho de ser datos con valores alto se presentan el grafico anterior."
   ]
  },
  {
   "cell_type": "code",
   "execution_count": null,
   "id": "5ffaf249",
   "metadata": {},
   "outputs": [],
   "source": []
  }
 ],
 "metadata": {
  "kernelspec": {
   "display_name": "Python 3 (ipykernel)",
   "language": "python",
   "name": "python3"
  },
  "language_info": {
   "codemirror_mode": {
    "name": "ipython",
    "version": 3
   },
   "file_extension": ".py",
   "mimetype": "text/x-python",
   "name": "python",
   "nbconvert_exporter": "python",
   "pygments_lexer": "ipython3",
   "version": "3.9.12"
  }
 },
 "nbformat": 4,
 "nbformat_minor": 5
}
